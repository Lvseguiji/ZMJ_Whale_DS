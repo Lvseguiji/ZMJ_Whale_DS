{
 "cells": [
  {
   "cell_type": "markdown",
   "source": [
    "# Chi Square Test 卡方检验"
   ],
   "metadata": {
    "collapsed": false
   }
  },
  {
   "cell_type": "markdown",
   "source": [
    "#### test1：抽取10000次，每次100颗，显示该案例的卡方值分布"
   ],
   "metadata": {
    "collapsed": false
   }
  },
  {
   "cell_type": "code",
   "execution_count": 98,
   "metadata": {
    "collapsed": true
   },
   "outputs": [],
   "source": [
    "import numpy as np\n",
    "import pandas as pd\n",
    "import matplotlib.pyplot as plt\n",
    "\n",
    "candy_lst = np.random.choice(['高粱饴', '大白兔', '大虾酥', '酒心糖', '巧克力'], 1000, [0.4, 0.2, 0.2, 0.15, 0.05])"
   ]
  },
  {
   "cell_type": "markdown",
   "source": [
    "### 1. 卡法公式\n",
    "- 卡方值 = 将每种类别变量的 （观察频次 - 期望频次）/ 期望频次"
   ],
   "metadata": {
    "collapsed": false
   }
  },
  {
   "cell_type": "code",
   "execution_count": 106,
   "outputs": [
    {
     "data": {
      "text/html": "<img src=\"WechatIMG49.png\" width=\"300\" height=\"300\"/>",
      "text/plain": "<IPython.core.display.Image object>"
     },
     "execution_count": 106,
     "metadata": {},
     "output_type": "execute_result"
    }
   ],
   "source": [
    "from IPython.display import Image\n",
    "Image(url=\"WechatIMG49.png\", width=300, height=300)"
   ],
   "metadata": {
    "collapsed": false
   }
  },
  {
   "cell_type": "code",
   "execution_count": 206,
   "outputs": [
    {
     "data": {
      "text/plain": "<Figure size 640x480 with 1 Axes>",
      "image/png": "[encoded data removed]"
     },
     "metadata": {},
     "output_type": "display_data"
    }
   ],
   "source": [
    "# 绘制当前案例的卡方分布图\n",
    "def chi_square(rnd_pick):\n",
    "    val_count_rnd = np.array(np.unique(rnd_pick, return_counts=True)).T\n",
    "    df_ex = pd.DataFrame(val_count_rnd,columns=['type','counts'])\n",
    "    df_ob = pd.DataFrame({'type': ['高粱饴', '大白兔', '大虾酥', '酒心糖', '巧克力'], 'counts':[40,20,20,15,5]})\n",
    "    combined_df = df_ob.merge(df_ex,on='type',suffixes=['_ex','_ob'])\n",
    "    combined_df.counts_ob = combined_df.counts_ob.astype('int')\n",
    "    combined_df['chi'] = ((combined_df.counts_ob - combined_df.counts_ex)**2)/combined_df.counts_ex\n",
    "    cs = combined_df.chi.sum()\n",
    "    return cs\n",
    "\n",
    "df = pd.DataFrame(columns=['chi_square'])\n",
    "for i in range(10000):\n",
    "    rnd_pick_100 = np.random.choice(candy_lst, 100)\n",
    "    cs = chi_square(rnd_pick_100)\n",
    "    df.loc[len(df)] = cs\n",
    "\n",
    "plt.hist(df,edgecolor='black',bins=100)\n",
    "plt.show()"
   ],
   "metadata": {
    "collapsed": false
   }
  },
  {
   "cell_type": "markdown",
   "source": [
    "- 结果为一个较为光滑的卡方分布。类别变量的种类 n=5，卡方分布的自由度 df=n-1=4。\n",
    "- 卡方分布是朝右边的尾巴尖倾斜的，（postively skewed）\n",
    "- 卡方值越大（分布右侧），说明ob和ex的差异越大，选取样本越极端，越应该拒绝H0\n",
    "- 卡方值越小（分布左侧），说明ob和ex的差异越小，选取样本越不极端，越应该接受H0"
   ],
   "metadata": {
    "collapsed": false
   }
  },
  {
   "cell_type": "code",
   "execution_count": 108,
   "outputs": [
    {
     "name": "stdout",
     "output_type": "stream",
     "text": [
      "0.066\n",
      "- 假如α设定为0.05的话,p>α。于是,这个样本不极端,不显著,于是无法拒绝H0,认为总体中类别变量的分布,仍然符合姥爷勾兑的比例。\n"
     ]
    }
   ],
   "source": [
    "rnd_pick_100 = np.random.choice(candy_lst, 100)\n",
    "cs = chi_square(rnd_pick_100)\n",
    "p = len(df[df.chi_square>=cs])/10000\n",
    "print(p)\n",
    "print('- 假如α设定为0.05的话,p>α。于是,这个样本不极端,不显著,于是无法拒绝H0,认为总体中类别变量的分布,仍然符合姥爷勾兑的比例。')"
   ],
   "metadata": {
    "collapsed": false
   }
  },
  {
   "cell_type": "markdown",
   "source": [
    "### 2.拟合优度\n",
    "- \"拟合优度\"可以用p值来表示的。p值越大,说明样本的卡方值越小,观测频次和期望频次之间的差异也越小,样本越能拟合期望,样本越能代表总体。\n",
    "- p值越小,说明样本卡方值越大,观测频次和期望频次之间的差异也越大,样本越不符合期望,样本越不能代表总体。"
   ],
   "metadata": {
    "collapsed": false
   }
  },
  {
   "cell_type": "code",
   "execution_count": 233,
   "outputs": [
    {
     "data": {
      "text/plain": "  type counts_ob  counts_ex\n0  大白兔        17         20\n1  大虾酥        19         20\n2  巧克力        14          5\n3  酒心糖        21         15\n4  高粱饴        29         40",
      "text/html": "<div>\n<style scoped>\n    .dataframe tbody tr th:only-of-type {\n        vertical-align: middle;\n    }\n\n    .dataframe tbody tr th {\n        vertical-align: top;\n    }\n\n    .dataframe thead th {\n        text-align: right;\n    }\n</style>\n<table border=\"1\" class=\"dataframe\">\n  <thead>\n    <tr style=\"text-align: right;\">\n      <th></th>\n      <th>type</th>\n      <th>counts_ob</th>\n      <th>counts_ex</th>\n    </tr>\n  </thead>\n  <tbody>\n    <tr>\n      <th>0</th>\n      <td>大白兔</td>\n      <td>17</td>\n      <td>20</td>\n    </tr>\n    <tr>\n      <th>1</th>\n      <td>大虾酥</td>\n      <td>19</td>\n      <td>20</td>\n    </tr>\n    <tr>\n      <th>2</th>\n      <td>巧克力</td>\n      <td>14</td>\n      <td>5</td>\n    </tr>\n    <tr>\n      <th>3</th>\n      <td>酒心糖</td>\n      <td>21</td>\n      <td>15</td>\n    </tr>\n    <tr>\n      <th>4</th>\n      <td>高粱饴</td>\n      <td>29</td>\n      <td>40</td>\n    </tr>\n  </tbody>\n</table>\n</div>"
     },
     "execution_count": 233,
     "metadata": {},
     "output_type": "execute_result"
    }
   ],
   "source": [
    "import scipy.stats as stats\n",
    "rnd_pick_100 = np.random.choice(candy_lst, 100)\n",
    "val_count_rnd = np.array(np.unique(rnd_pick_100, return_counts=True)).T\n",
    "df_ex = pd.DataFrame(val_count_rnd,columns=['type','counts'])\n",
    "df_ob = pd.DataFrame({'type': ['高粱饴', '大白兔', '大虾酥', '酒心糖', '巧克力'], 'counts':[40,20,20,15,5]})\n",
    "df_ex_ob = df_ex.merge(df_ob, on='type',suffixes=['_ob','_ex'])\n",
    "df_ex_ob"
   ],
   "metadata": {
    "collapsed": false
   }
  },
  {
   "cell_type": "code",
   "execution_count": 231,
   "outputs": [
    {
     "data": {
      "text/plain": "(48.025, 9.325257973356322e-10)"
     },
     "execution_count": 231,
     "metadata": {},
     "output_type": "execute_result"
    }
   ],
   "source": [
    "ob = df_ex_ob.counts_ob.to_list()\n",
    "cs,p = stats.chisquare(df_ex_ob.counts_ob.to_list(), df_ex_ob.counts_ex.to_list())\n",
    "cs,p"
   ],
   "metadata": {
    "collapsed": false
   }
  },
  {
   "cell_type": "code",
   "execution_count": null,
   "outputs": [],
   "source": [],
   "metadata": {
    "collapsed": false
   }
  }
 ],
 "metadata": {
  "kernelspec": {
   "display_name": "Python 3",
   "language": "python",
   "name": "python3"
  },
  "language_info": {
   "codemirror_mode": {
    "name": "ipython",
    "version": 2
   },
   "file_extension": ".py",
   "mimetype": "text/x-python",
   "name": "python",
   "nbconvert_exporter": "python",
   "pygments_lexer": "ipython2",
   "version": "2.7.6"
  }
 },
 "nbformat": 4,
 "nbformat_minor": 0
}
