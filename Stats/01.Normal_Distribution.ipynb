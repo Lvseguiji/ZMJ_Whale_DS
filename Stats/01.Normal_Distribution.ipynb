{
 "cells": [
  {
   "cell_type": "markdown",
   "source": [
    "# Example_1"
   ],
   "metadata": {
    "collapsed": false
   }
  },
  {
   "cell_type": "code",
   "execution_count": 81,
   "metadata": {
    "collapsed": true
   },
   "outputs": [],
   "source": [
    "import numpy as np\n",
    "import pandas as pd\n",
    "import matplotlib.pyplot as plt"
   ]
  },
  {
   "cell_type": "code",
   "execution_count": 82,
   "outputs": [
    {
     "name": "stdout",
     "output_type": "stream",
     "text": [
      "     1   2   3   4   5   6   7   8   9   10\n",
      "0     1   0   1   0   1   0   1   1   1   1\n",
      "1     0   0   0   1   0   1   0   1   1   0\n",
      "2     0   0   0   0   1   0   0   0   1   0\n",
      "3     0   1   1   1   1   1   1   0   0   0\n",
      "4     1   1   1   1   1   0   1   1   1   0\n",
      "..   ..  ..  ..  ..  ..  ..  ..  ..  ..  ..\n",
      "995   0   1   1   0   0   0   0   0   0   1\n",
      "996   0   1   0   1   0   1   1   0   1   0\n",
      "997   0   0   1   0   1   1   0   1   1   0\n",
      "998   0   1   1   0   0   1   0   0   1   1\n",
      "999   1   1   0   0   0   0   1   0   1   0\n",
      "\n",
      "[1000 rows x 10 columns]\n"
     ]
    }
   ],
   "source": [
    "throw_num = int(input('enter a number: '))\n",
    "col_name = np.arange(1,11)\n",
    "df = pd.DataFrame(columns=col_name)\n",
    "for i in range(throw_num):\n",
    "    coin_result = np.random.randint(0, 2, 10)\n",
    "    df.loc[len(df)] = coin_result\n",
    "print(df)"
   ],
   "metadata": {
    "collapsed": false
   }
  },
  {
   "cell_type": "code",
   "execution_count": 89,
   "outputs": [
    {
     "data": {
      "text/plain": "<Figure size 640x480 with 1 Axes>",
      "image/png": "[encoded data removed]"
     },
     "metadata": {},
     "output_type": "display_data"
    }
   ],
   "source": [
    "turn_sum = df.sum(axis=1)\n",
    "plt.hist(turn_sum, range=(0,11))\n",
    "plt.show()"
   ],
   "metadata": {
    "collapsed": false
   }
  },
  {
   "cell_type": "markdown",
   "source": [
    "# Example_2"
   ],
   "metadata": {
    "collapsed": false
   }
  },
  {
   "cell_type": "code",
   "execution_count": 191,
   "outputs": [],
   "source": [
    "ball_num = 100\n",
    "layer_num = 10\n",
    "nail_num = np.arange(1, 11)\n",
    "start_pos = 6\n",
    "final_pos = 0"
   ],
   "metadata": {
    "collapsed": false
   }
  },
  {
   "cell_type": "code",
   "execution_count": 192,
   "outputs": [],
   "source": [
    "df = pd.DataFrame(columns=['pos'])\n",
    "for turn in range(1000):\n",
    "    path = []\n",
    "    for i in range(layer_num):\n",
    "        path.append(1 if np.random.choice([0, 1], 1, p=[0.5, 0.5]) == 1 else -1)\n",
    "    path_result = 0\n",
    "    for i in path:\n",
    "        path_result += i\n",
    "    final_pos = int(start_pos + path_result/2)\n",
    "    df.loc[len(df)] = final_pos"
   ],
   "metadata": {
    "collapsed": false
   }
  },
  {
   "cell_type": "code",
   "execution_count": 193,
   "outputs": [
    {
     "data": {
      "text/plain": "<Figure size 640x480 with 1 Axes>",
      "image/png": "[encoded data removed]"
     },
     "metadata": {},
     "output_type": "display_data"
    }
   ],
   "source": [
    "plt.hist(df, range=(0,12))\n",
    "plt.show()"
   ],
   "metadata": {
    "collapsed": false
   }
  },
  {
   "cell_type": "markdown",
   "source": [
    "中心极限定理(Central LimitTheorem):\n",
    "其数学表述为:所研究的随机变量如果是由大量独立的随机变量相加而成,那么它的分布将近似于正态分布。\n",
    "其通俗表述为:如果一个结果是由大量的不相干的因素累加与导致的,那么这个结果一定表现为正态分布。\n",
    "例如:某个省,某年的高考,全部考生的英语成绩卷面原始分,必定服从正态分布。"
   ],
   "metadata": {
    "collapsed": false
   }
  },
  {
   "cell_type": "code",
   "execution_count": 184,
   "outputs": [
    {
     "data": {
      "text/html": "<img src=\"WechatIMG27.jpeg\" width=\"300\" height=\"300\"/>",
      "text/plain": "<IPython.core.display.Image object>"
     },
     "execution_count": 184,
     "metadata": {},
     "output_type": "execute_result"
    }
   ],
   "source": [
    "# import image module\n",
    "from IPython.display import Image\n",
    "\n",
    "# get the image\n",
    "Image(url=\"WechatIMG27.jpeg\", width=300, height=300)"
   ],
   "metadata": {
    "collapsed": false
   }
  },
  {
   "cell_type": "code",
   "execution_count": 194,
   "outputs": [
    {
     "data": {
      "text/html": "<img src=\"WechatIMG28.jpeg\" width=\"300\" height=\"300\"/>",
      "text/plain": "<IPython.core.display.Image object>"
     },
     "execution_count": 194,
     "metadata": {},
     "output_type": "execute_result"
    }
   ],
   "source": [
    "# get the image\n",
    "Image(url=\"WechatIMG28.jpeg\", width=300, height=300)"
   ],
   "metadata": {
    "collapsed": false
   }
  },
  {
   "cell_type": "code",
   "execution_count": null,
   "outputs": [],
   "source": [],
   "metadata": {
    "collapsed": false
   }
  }
 ],
 "metadata": {
  "kernelspec": {
   "display_name": "Python 3",
   "language": "python",
   "name": "python3"
  },
  "language_info": {
   "codemirror_mode": {
    "name": "ipython",
    "version": 2
   },
   "file_extension": ".py",
   "mimetype": "text/x-python",
   "name": "python",
   "nbconvert_exporter": "python",
   "pygments_lexer": "ipython2",
   "version": "2.7.6"
  }
 },
 "nbformat": 4,
 "nbformat_minor": 0
}
